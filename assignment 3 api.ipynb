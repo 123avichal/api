{
 "cells": [
  {
   "cell_type": "markdown",
   "id": "b0cb2100-2c9f-49b7-9531-d9a8211eb41e",
   "metadata": {},
   "source": [
    "Q3. What is a Web API? Differentiate between API and Web API."
   ]
  },
  {
   "cell_type": "markdown",
   "id": "5535702f-2802-41c1-b917-6596972fb5af",
   "metadata": {},
   "source": [
    "web Api is the set of function which allow data of application. it can access over web by use of http framwork which create restful services. web api is a web development concept which is limited to the client side not include web browser details\n",
    "it used to implement restfull services and enabling development of http services\n",
    "\n",
    "diff b/w APi and web API\n",
    "1 ApI is access through the network connection where as web api through the application whre one app communicate with other app\n",
    "\n",
    "2 APi is used for xML,REST, SOAP for communication while web API for any type of communication\n",
    "\n",
    "3 APi does not have light weight design need soap for send and recieve data while web api have light weight \n",
    "\n",
    "4 APi support for only for http while web api support http,url etc"
   ]
  },
  {
   "cell_type": "markdown",
   "id": "42012fc8-e370-4260-b2b8-8ac998c4ff40",
   "metadata": {},
   "source": [
    "Q5. Differentiate between REST and SOAP."
   ]
  },
  {
   "cell_type": "markdown",
   "id": "bec6a775-29da-4241-8aeb-27a46dfecda3",
   "metadata": {},
   "source": [
    " 1 SOAP is stands simple object access protocol  REST is representational state transfer\n",
    "  \n",
    "2 AS soap is follow the protocol means adhere to standard while rest is follow constraint stateless,cacheable,layered system,client server,code on demand\n",
    "\n",
    "3 SOAP only use XML xetended markup language whereas rest use xml,json\n",
    "\n",
    "4 SOAP works on wsdl(web service discrip lang)while rest work on get,put,post,delete"
   ]
  },
  {
   "cell_type": "markdown",
   "id": "dfa2b0a7-86a1-4e4e-83c3-39041a622cb8",
   "metadata": {},
   "source": [
    "Q1. What is an API? Give an example, where an API is used in real life."
   ]
  },
  {
   "cell_type": "markdown",
   "id": "9a08f9c5-462f-4acd-b3ca-e741f1faae66",
   "metadata": {},
   "source": [
    "API stands for Application Programming Interface. In the context of APIs, the word Application refers to any software with a distinct function. Interface can be thought of as a contract of service between two applications. This contract defines how the two communicate with each other using requests and responses. Their API documentation contains information on how developers are to structure those requests and responses.\n",
    "\n",
    "For example, the weather bureau’s software system contains daily weather data. The weather app on your phone “talks” to this system via APIs and shows you daily weather updates on your phone."
   ]
  },
  {
   "cell_type": "markdown",
   "id": "725c5567-c9cb-4e79-bef3-3a734b53f21e",
   "metadata": {},
   "source": [
    "Q2. Give advantages and disadvantages of using API."
   ]
  },
  {
   "cell_type": "markdown",
   "id": "30347c96-5e41-4e59-a313-050ae305c6ee",
   "metadata": {},
   "source": [
    "1API  enable different software systems to communicate with each other, regardless of their programming language or platform\n",
    "\n",
    "2 reuse code and functionality from existing software systems, saving time and reducing the amount of code that needs to be written from scratch.\n",
    "\n",
    "3 APIs can enable third-party developers to create applications that integrate with existing software systems, providing a better user experience and increased functionality.\n",
    "\n",
    "4 APIs provide developers with greater flexibility, enabling them to choose the best programming languages and frameworks for their needs.\n",
    "\n",
    " DISADVANTAGE_\n",
    " \n",
    "1  API infrastructures can be vulnerable to security breaches, such as SQL injection attacks and cross-site scripting (XSS) attacks, making it crucial to implement security measures to protect against these threats.\n",
    "\n",
    "2  APIs can be complex, requiring a significant amount of development effort to implement and maintain.\n",
    "\n",
    "3 APIs require proper governance and management to ensure they are being used correctly and consistently across different applications and systems."
   ]
  },
  {
   "cell_type": "markdown",
   "id": "a1cadfeb-3a67-4c2b-8353-a4f4ae6ed58b",
   "metadata": {},
   "source": [
    "Q4. Explain REST and SOAP Architecture. Mention shortcomings of SOAP."
   ]
  },
  {
   "cell_type": "markdown",
   "id": "e6583944-1e97-4064-9336-e91f9e4dde0e",
   "metadata": {},
   "source": [
    "REST (Representational State Transfer) is an architectural approach for communication purposes often used in various web services development. It is a stateless client-server model. Web services that are defined by the concept of REST are RESTful web services. When a client makes a request via RESTful API, it transfers the representation of the state of the resources to the server. This information can be transferred in various formats via HTTP like JSON, HTML, XLT, and Plain Text, but JSON is the most common language used due to its easy readability by machines and humans.\n",
    "\n",
    "SOAP (Simple Object Access Protocol) is an XML-based protocol for accessing web services over HTTP. It is developed as an intermediate language so that applications built in various programming languages can communicate with each other effectively. Web services use SOAP for the exchange of XML data between applications. SOAP supports both stateful and stateless operations. Stateful means that the server keeps the information that it receives from the client across multiple requests. These requests are chained together so that the server is aware of the previous requests. Examples are bank transactions, flight bookings, etc. Stateless messaging has enough information about the state of the client so that the server does not have to bother.\n",
    "\n",
    "SOAP is difficult to implement and it requires more bandwidth whereas REST is easy to implement and requires less bandwidth such as smartphones.\n",
    "Benefits of SOAP over REST as SOAP has ACID compliance transaction. Some of the applications require transaction ability which is accepted by SOAP whereas REST lacks in it.\n",
    "\n"
   ]
  },
  {
   "cell_type": "code",
   "execution_count": null,
   "id": "f64dc5c5-cf57-48ef-8d7f-4a4228c65145",
   "metadata": {},
   "outputs": [],
   "source": []
  }
 ],
 "metadata": {
  "kernelspec": {
   "display_name": "Python 3 (ipykernel)",
   "language": "python",
   "name": "python3"
  },
  "language_info": {
   "codemirror_mode": {
    "name": "ipython",
    "version": 3
   },
   "file_extension": ".py",
   "mimetype": "text/x-python",
   "name": "python",
   "nbconvert_exporter": "python",
   "pygments_lexer": "ipython3",
   "version": "3.10.8"
  }
 },
 "nbformat": 4,
 "nbformat_minor": 5
}
